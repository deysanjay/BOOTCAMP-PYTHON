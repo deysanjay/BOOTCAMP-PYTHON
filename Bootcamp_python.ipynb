{
  "nbformat": 4,
  "nbformat_minor": 0,
  "metadata": {
    "colab": {
      "name": "Bootcamp_python.ipynb",
      "provenance": []
    },
    "kernelspec": {
      "name": "python3",
      "display_name": "Python 3"
    },
    "language_info": {
      "name": "python"
    }
  },
  "cells": [
    {
      "cell_type": "markdown",
      "metadata": {
        "id": "1l0esvjH8XyL"
      },
      "source": [
        "##GENERATE MD5 of STRING DATA"
      ]
    },
    {
      "cell_type": "code",
      "metadata": {
        "colab": {
          "base_uri": "https://localhost:8080/"
        },
        "id": "yYrrcu271Y_g",
        "outputId": "86470337-0f93-40bf-8f8a-64317d859f25"
      },
      "source": [
        "import hashlib\n",
        "data=(input(\"ENTER ANY WORD OR NUMBER:  \"))\n",
        "key=hashlib.md5(data.encode()) \n",
        "print(\"The converted value is: \",key)"
      ],
      "execution_count": null,
      "outputs": [
        {
          "output_type": "stream",
          "text": [
            "ENTER ANY WORD OR NUMBER:  Sanjay\n",
            "The converted value is:  <md5 HASH object @ 0x7fe99ac87b40>\n"
          ],
          "name": "stdout"
        }
      ]
    },
    {
      "cell_type": "markdown",
      "metadata": {
        "id": "vZU9PY0y8bJe"
      },
      "source": [
        "##GENERATE HASHES OF STRING DATA USING 3 ALGORITHMS"
      ]
    },
    {
      "cell_type": "code",
      "metadata": {
        "colab": {
          "base_uri": "https://localhost:8080/"
        },
        "id": "nWWZXdwm146b",
        "outputId": "c7d5a9fa-8e35-4dbe-d3ef-b714b4d8feb8"
      },
      "source": [
        " import hashlib\n",
        "data=(input(\"ENTER ANY WORD OR NUMBER:  \"))\n",
        "key=hashlib.sha256(data.encode())\n",
        "print(\"The converted value is: \",key)"
      ],
      "execution_count": null,
      "outputs": [
        {
          "output_type": "stream",
          "text": [
            "ENTER ANY WORD OR NUMBER:  Sanjay\n",
            "The converted value is:  <sha256 HASH object @ 0x7fe996b4bc60>\n"
          ],
          "name": "stdout"
        }
      ]
    },
    {
      "cell_type": "code",
      "metadata": {
        "colab": {
          "base_uri": "https://localhost:8080/"
        },
        "id": "nErhweR81_I-",
        "outputId": "795e98dc-68ef-403b-c143-22c33580b4ac"
      },
      "source": [
        " import hashlib\n",
        "data=(input(\"ENTER ANY WORD OR NUMBER:  \"))\n",
        "key=hashlib.sha3_512(data.encode())\n",
        "print(\"The converted value is: \",key.hexdigest())"
      ],
      "execution_count": null,
      "outputs": [
        {
          "output_type": "stream",
          "text": [
            "ENTER ANY WORD OR NUMBER:  Sanjay\n",
            "The converted value is:  0c4f40f72b5bf761ba3146001f80c45731d3020c187af83eb79f3cc4a32865c8fde5c3902053943f8f916b55f394f8e75e78ec4b74071f9d65bec7ffe3e2fce4\n"
          ],
          "name": "stdout"
        }
      ]
    },
    {
      "cell_type": "code",
      "metadata": {
        "colab": {
          "base_uri": "https://localhost:8080/"
        },
        "id": "diHHlA-v21ci",
        "outputId": "dd11f49c-fa84-4e9c-d1ea-04b1d1ff038a"
      },
      "source": [
        " import hashlib\n",
        "data=(input(\"ENTER ANY WORD OR NUMBER:  \"))\n",
        "key=hashlib.sha3_512(data.encode())\n",
        "print(\"The converted value is: \",key.hexdigest())"
      ],
      "execution_count": null,
      "outputs": [
        {
          "output_type": "stream",
          "text": [
            "ENTER ANY WORD OR NUMBER:  Sanjay\n",
            "The converted value is:  0c4f40f72b5bf761ba3146001f80c45731d3020c187af83eb79f3cc4a32865c8fde5c3902053943f8f916b55f394f8e75e78ec4b74071f9d65bec7ffe3e2fce4\n"
          ],
          "name": "stdout"
        }
      ]
    },
    {
      "cell_type": "markdown",
      "metadata": {
        "id": "Z2Cyirk48rgZ"
      },
      "source": [
        "##SALTING AND ITERATION"
      ]
    },
    {
      "cell_type": "code",
      "metadata": {
        "colab": {
          "base_uri": "https://localhost:8080/"
        },
        "id": "qEeoUbzO3CzC",
        "outputId": "8b767d3f-dc47-4e83-9548-c874b4eb91a1"
      },
      "source": [
        " import hashlib\n",
        "import os # to generat a salt use os.urandom\n",
        "salt=os.urandom(128)\n",
        "key=input(\"enter your user name :\")\n",
        "convert=hashlib.pbkdf2_hmac('sha256',key.encode('utf-8'),salt,10)\n",
        "print(\"The username is : \",convert)"
      ],
      "execution_count": null,
      "outputs": [
        {
          "output_type": "stream",
          "text": [
            "enter your user name :Sanjay\n",
            "The username is :  b'\\xc0\\xb1\\xbe\\xf8\\xab\\xe4\\xdeN\\x9c\\xb5\\xf7\\x18\\xfe\\x14\\xb3\\xb3o\\xf4\\x8a\\xa1v&\\x00\\x98\\xcc\\xbbI\\xca\\x0e\\xdf\\x90Q'\n"
          ],
          "name": "stdout"
        }
      ]
    }
  ]
}